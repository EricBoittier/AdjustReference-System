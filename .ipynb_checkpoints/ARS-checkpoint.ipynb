{
 "cells": [
  {
   "cell_type": "markdown",
   "metadata": {},
   "source": [
    "#  Converting between global and local axis systems\n",
    "\n",
    "IN: MDCM charges, atom positions (from cube file), reference frames   \n",
    "OUT: MDCM charges shifted to reflect the new local axis system\n",
    "\n",
    "## 1. Load initial variables\n",
    "Note: in this code, atoms are 0 indexed\n",
    "For the MDCM module in CHARMM the atoms are labelled from 1"
   ]
  },
  {
   "cell_type": "code",
   "execution_count": 42,
   "metadata": {},
   "outputs": [],
   "source": [
    "import numpy as np\n",
    "import os, sys\n",
    "from scipy.spatial import distance\n",
    "import matplotlib.pyplot as plt\n",
    "from mpl_toolkits.mplot3d import Axes3D\n",
    "from math import sqrt \n",
    "\n",
    "%matplotlib notebook\n",
    "\n",
    "home_path = \"/home/boittier/Documents/AdjustReference-System/\"\n",
    "#home_path = \"/home/eric/Documents/PhD/AdjustReference-System/\"\n",
    "sys.path.insert(1, home_path)\n",
    "from Cube import read_charges_refined, read_cube\n",
    "\n",
    "BOHR_TO_ANGSTROM = 0.529177\n",
    "\n",
    "#  Define Variables\n",
    "\n",
    "# # F-butadiene example\n",
    "# folder = \"fbuta/pos1/\"\n",
    "# xyz_file_name = home_path + folder + \"36_charges_refined.xyz\"\n",
    "# pcube = home_path + folder + \"B.p.cube\"\n",
    "# frame_file = home_path + folder + \"frames.txt\"\n",
    "\n",
    "# Water Example\n",
    "#folder = \"water_simple/\"\n",
    "folder = \"water/\"\n",
    "xyz_file_name = home_path + folder + \"8_charges_refined.xyz\"\n",
    "pcube = home_path + folder + \"Water_5_5_4.pot.cube\"\n",
    "frame_file = home_path + folder + \"frames.txt\"\n",
    "\n",
    "# Open XYZ file\n",
    "xyz_file = open(xyz_file_name).readlines()\n",
    "#  read number of charges from first line (xyz format)\n",
    "n_charges = int(xyz_file[0])\n",
    "charge_lines = xyz_file[2:n_charges+2]\n",
    "# Read atoms and charges\n",
    "c_positions = []\n",
    "c_charges = []\n",
    "for charge in charge_lines:\n",
    "    on, x, y, z, c = charge.split()\n",
    "    c_positions.append([float(x), float(y) , float(z)])\n",
    "    c_charges.append(float(c))\n",
    "    \n",
    "# Open Cube file\n",
    "pcube_data, pcube_meta = read_cube(pcube)\n",
    "atom_positions = []\n",
    "atom_names = []\n",
    "for i in pcube_meta[\"atoms\"]:\n",
    "    atom = list(i[1])\n",
    "    atom_positions.append([x *BOHR_TO_ANGSTROM for x in atom[1:]])\n",
    "\n",
    "    atom_names.append(atom[1])\n",
    "n_atoms = len(atom_names)\n",
    "\n",
    "# Match each charge to a nucleus\n",
    "charge_atom_associations = []\n",
    "atom_charge_dict = {}\n",
    "for i_charge in range(n_charges):\n",
    "    min_distance = np.Inf #  initial distance, which can be compared to find smaller values\n",
    "    for j_atom in range(n_atoms):       \n",
    "        d = distance.euclidean(c_positions[i_charge], atom_positions[j_atom])\n",
    "        if d < min_distance:\n",
    "            atom_association = j_atom\n",
    "            min_distance = d\n",
    "    charge_atom_associations.append([i_charge, atom_association])\n",
    "    \n",
    "    if atom_association not in list(atom_charge_dict.keys()):\n",
    "        atom_charge_dict[atom_association] = [i_charge]\n",
    "    else:\n",
    "        atom_charge_dict[atom_association].append(i_charge)\n",
    "\n",
    "    \n",
    "# Get frames\n",
    "frame = open(frame_file).readlines()\n",
    "frame_atoms = []\n",
    "frames = frame[1:]\n",
    "n_frames = len(frames)\n",
    "for f in frames:\n",
    "    a1, a2, a3 = f.split()\n",
    "    frame_atoms.append([int(a1), int(a2), int(a3)])\n"
   ]
  },
  {
   "cell_type": "code",
   "execution_count": null,
   "metadata": {},
   "outputs": [],
   "source": []
  },
  {
   "cell_type": "code",
   "execution_count": 43,
   "metadata": {},
   "outputs": [
    {
     "data": {
      "text/plain": [
       "{0: [0, 1, 2], 1: [3, 4], 2: [5, 6, 7]}"
      ]
     },
     "execution_count": 43,
     "metadata": {},
     "output_type": "execute_result"
    }
   ],
   "source": [
    "def get_local_axis(atom_pos, frame_atoms):\n",
    "    \"\"\"\n",
    "    Inputs:\n",
    "                atom_positions, frames\n",
    "    Returns: \n",
    "                List of Lists of Frame Vectors [ [x_v, y_v, z_v], ...  ] in order of frames\n",
    "    \"\"\"\n",
    "    n_frames = len(frame_atoms)\n",
    "    frame_vectors = []\n",
    "    for f in range(n_frames):\n",
    "        a_index , b_index, c_index = frame_atoms[f]\n",
    "        a,b,c = frame_atoms[f]\n",
    "        a = atom_pos[a-1]\n",
    "        b = atom_pos[b-1]\n",
    "        c = atom_pos[c-1]\n",
    "        distance_ab = distance.euclidean(a, b)\n",
    "        b1_x = (a[0] - b[0])/distance_ab\n",
    "        b1_y = (a[1] - b[1])/distance_ab\n",
    "        b1_z = (a[2] - b[2])/distance_ab\n",
    "\n",
    "        distance_bc = distance.euclidean(b, c)\n",
    "        b2_x = (b[0] - c[0])/distance_bc\n",
    "        b2_y = (b[1] - c[1])/distance_bc\n",
    "        b2_z = (b[2] - c[2])/distance_bc\n",
    "\n",
    "        #  Z axes\n",
    "        ez1 = [b1_x, b1_y, b1_z]\n",
    "        ez2 = [b1_x, b1_y, b1_z]\n",
    "        ez3 = [b2_x, b2_y, b2_z]\n",
    "        \n",
    "        #  Y axes\n",
    "        ey1 = np.zeros(3)\n",
    "        ey1[0] = b1_y*b2_z-b1_z*b2_y\n",
    "        ey1[1] = b1_z*b2_x-b1_x*b2_z\n",
    "        ey1[2] = b1_x*b2_y-b1_y*b2_x\n",
    "        re_x = sqrt(ey1[0]**2 + ey1[1]**2 + ey1[2]**2)\n",
    "        ey1[0] = ey1[0]/re_x\n",
    "        ey1[1] = ey1[1]/re_x\n",
    "        ey1[2] = ey1[2]/re_x\n",
    "        ey2 = ey3 = ey1\n",
    "          \n",
    "        #  X axes\n",
    "        ex1 = ex3 = np.zeros(3)\n",
    "        #  ex1 and ex2\n",
    "        ex1[0] = b1_y*ey1[2]-b1_z*ey1[1]\n",
    "        ex1[1] = b1_z*ey1[0]-b1_x*ey1[2]\n",
    "        ex1[2] = b1_x*ey1[1]-b1_y*ey1[0]\n",
    "        re_x = sqrt(ex1[0]**2 + ex1[1]**2 + ex1[2]**2)\n",
    "        ex1[0] = ex1[0]/re_x\n",
    "        ex1[1] = ex1[1]/re_x\n",
    "        ex1[2] = ex1[2]/re_x   \n",
    "        ex2 = ex1\n",
    "        #  ex3\n",
    "        ex3[0] = b2_y*ey1[2]-b2_z*ey1[1]\n",
    "        ex3[1] = b2_z*ey1[0]-b2_x*ey1[2]\n",
    "        ex3[2] = b2_x*ey1[1]-b2_y*ey1[0] \n",
    "        re_x = sqrt(ex3[0]**2 + ex3[1]**2 + ex3[2]**2)\n",
    "        ex3[0] = ex3[0]/re_x\n",
    "        ex3[1] = ex3[1]/re_x\n",
    "        ex3[2] = ex3[2]/re_x  \n",
    "                \n",
    "        frame_vectors.append(([ex1, ex2, ex3], \n",
    "                              [ey1, ey2, ey3], \n",
    "                              [ez1, ez2, ez3]))\n",
    "    return frame_vectors\n",
    "\n",
    "atom_charge_dict"
   ]
  },
  {
   "cell_type": "markdown",
   "metadata": {},
   "source": [
    "## 2. Calculate the transformation\n",
    "\n",
    "Each charge in associated with an atom.\n",
    "Atoms are used to define local reference axes.\n",
    "\n",
    "Global = x, y, z  \n",
    "Local = p, q, r\n",
    "\n",
    "Find a transformation from (xyz) -> (pqr)  \n",
    "\n",
    "\n",
    "find pqr in terms of xyz\n",
    "p = || A - B ||\n",
    "q = || B - C ||\n",
    "r (i.e. z) is the cross product = ||A|| ||B|| sin(theta)\n",
    "\n",
    "Normalise between (0, 1) by dividing the distance from atom a to b\n",
    "\n"
   ]
  },
  {
   "cell_type": "code",
   "execution_count": 44,
   "metadata": {},
   "outputs": [
    {
     "name": "stdout",
     "output_type": "stream",
     "text": [
      "0\n",
      "1\n",
      "2\n"
     ]
    }
   ],
   "source": [
    "# Calculate local axes and transform charges\n",
    "\n",
    "# Calculate the new axes for each frame\n",
    "frame_vectors = get_local_axis(atom_positions, frame_atoms)\n",
    "\"\"\"\n",
    "Global ==> Local\n",
    "\"\"\"\n",
    "#  Find the position of the charges in the local axes\n",
    "#  Create a new array for the 'local' charges\n",
    "c_pos_shape = np.array(c_positions).shape\n",
    "c_positions_local = np.zeros(c_pos_shape)\n",
    "used_atoms = []\n",
    "for f in range(n_frames):\n",
    "    ex, ey, ez = frame_vectors[f]\n",
    "    #  Loop through the atoms in the frame\n",
    "    for ai, atom_index in zip(range(len(frame_atoms[f])), frame_atoms[f]):\n",
    "        #  adjust indexing\n",
    "        print(ai)\n",
    "        atom_index = atom_index - 1\n",
    "        if atom_index in list(atom_charge_dict.keys()) and atom_index not in used_atoms:\n",
    "            charges = atom_charge_dict[atom_index]\n",
    "            #  Find the associated charges for that atom, and loop\n",
    "            for charge in charges:\n",
    "                c_pos_global = c_positions[charge]\n",
    "                atom_pos_xyz = atom_positions[atom_index]\n",
    "                # \n",
    "                dx = c_pos_global[0] - atom_pos_xyz[0]\n",
    "                dy = c_pos_global[1] - atom_pos_xyz[1]\n",
    "                dz = c_pos_global[2] - atom_pos_xyz[2]\n",
    "                                \n",
    "                local_x_pos =  np.multiply(ex[ai], dx)\n",
    "                local_y_pos =  np.multiply(ey[ai], dy)\n",
    "                local_z_pos =  np.multiply(ez[ai], dz)\n",
    "                \n",
    "                c_positions_local[charge][0] = local_x_pos.sum()\n",
    "                c_positions_local[charge][1] =  local_y_pos.sum()\n",
    "                c_positions_local[charge][2] = local_z_pos.sum()\n",
    "                \n",
    "        used_atoms.append(atom_index)\n"
   ]
  },
  {
   "cell_type": "code",
   "execution_count": 45,
   "metadata": {},
   "outputs": [
    {
     "data": {
      "application/vnd.jupyter.widget-view+json": {
       "model_id": "fe293c420e644600892c192963b70144",
       "version_major": 2,
       "version_minor": 0
      },
      "text/plain": [
       "Canvas(toolbar=Toolbar(toolitems=[('Home', 'Reset original view', 'home', 'home'), ('Back', 'Back to previous …"
      ]
     },
     "metadata": {},
     "output_type": "display_data"
    }
   ],
   "source": [
    "atom_positions = np.array(atom_positions)\n",
    "#  Random pertubation of atom positions to simulate a new conformation\n",
    "atom_positions_plus = atom_positions #+ [[0,0.01,0.01], [0.01,0,0.01], [0.02,0.02,0.02]]\n",
    "#  Find the new axes for this conformation\n",
    "frame_vectors_plus = get_local_axis(atom_positions_plus, frame_atoms)\n",
    "\n",
    "\n",
    "\n",
    "\n",
    "def plot_axe(x_local_vector, y_local_vector, z_local_vector, c=\"k\"):\n",
    "    x = [-x_local_vector[0], 0, x_local_vector[0]]\n",
    "    y = [-x_local_vector[1], 0, x_local_vector[1]]\n",
    "    z = [-x_local_vector[2], 0, x_local_vector[2]]\n",
    "    plt.plot(x, y, z, c=c)\n",
    "    x = [-y_local_vector[0], 0, y_local_vector[0]]\n",
    "    y = [-y_local_vector[1], 0, y_local_vector[1]]\n",
    "    z = [-y_local_vector[2], 0, y_local_vector[2]]\n",
    "    plt.plot(x, y, z, c=c)\n",
    "    x = [-z_local_vector[0], 0, z_local_vector[0]]\n",
    "    y = [-z_local_vector[1], 0, z_local_vector[1]]\n",
    "    z = [-z_local_vector[2], 0, z_local_vector[2]]\n",
    "    plt.plot(x, y, z, c=c)\n",
    "\n",
    "fig = plt.figure()\n",
    "ax = Axes3D(fig, elev=0, azim=60)\n",
    "# Transpose to the right shape for plotting\n",
    "a_p = np.array(atom_positions).T\n",
    "a_p1 = np.array(atom_positions_plus).T\n",
    "c_p = np.array(c_positions).T\n",
    "c_p_l = np.array(c_positions_local).T\n",
    "# Plotting\n",
    "for x_local_vector, y_local_vector, z_local_vector in zip(*frame_vectors[0]):\n",
    "    plot_axe(x_local_vector, y_local_vector, z_local_vector)\n",
    "# for x_local_vector, y_local_vector, z_local_vector in zip(*frame_vectors_plus[0]):\n",
    "#     plot_axe(x_local_vector, y_local_vector, z_local_vector) \n",
    "    \n",
    "\n",
    "#plot_axe(*frame_vectors_plus[0], c=\"b\")\n",
    "plt.plot(a_p[0], a_p[1], a_p[2], marker=\"o\")\n",
    "# plt.plot(a_p1[0], a_p1[1], a_p1[2], marker=\"o\")\n",
    "plt.plot(c_p[0], c_p[1], c_p[2], marker=\"o\", linestyle = 'None', alpha=0.8)\n",
    "plt.plot(c_p_l[0], c_p_l[1], c_p_l[2], marker=\"o\", linestyle = 'None', alpha=0.8)\n",
    "ax.set_xlim(-1,1)\n",
    "ax.set_ylim(-1,1)\n",
    "ax.set_zlim(-1,1)\n",
    "    \n",
    "plt.show()"
   ]
  },
  {
   "cell_type": "code",
   "execution_count": 30,
   "metadata": {},
   "outputs": [
    {
     "data": {
      "text/plain": [
       "array([[-1.47695284e-06,  1.09996171e-04, -1.48997087e-02],\n",
       "       [-5.97809002e-06,  1.16844221e-04, -3.69172663e-02],\n",
       "       [-7.74852745e-05,  1.21206587e-04, -3.90284556e-02],\n",
       "       [-2.29557465e-06, -2.90048536e-01, -2.75447249e-01],\n",
       "       [-1.22062584e-05, -1.02693956e-01, -6.66584968e-02],\n",
       "       [-1.80580834e-05, -2.00643750e-01, -2.89204917e-01],\n",
       "       [-9.00354478e-06,  3.51325275e-02, -1.61013101e-02],\n",
       "       [ 1.72696449e-05, -1.94651820e-01, -3.47666865e-01]])"
      ]
     },
     "execution_count": 30,
     "metadata": {},
     "output_type": "execute_result"
    }
   ],
   "source": [
    "c_positions_local"
   ]
  },
  {
   "cell_type": "code",
   "execution_count": 31,
   "metadata": {},
   "outputs": [],
   "source": [
    "\"\"\"\n",
    "Local ==> Global\n",
    "\"\"\"\n",
    "#  Find the position of the charges in the local axes\n",
    "#  Create a new array for the 'local' charges\n",
    "c_pos_shape = np.array(c_positions).shape\n",
    "\n",
    "c_new_local = np.zeros(c_pos_shape)\n",
    "c_positions_global = np.zeros(c_pos_shape)\n",
    "used_atoms = []\n",
    "\n",
    "for f in range(n_frames):\n",
    "    ex, ey, ez = frame_vectors[f]\n",
    "    ex_p, ey_p, ez_p = frame_vectors_plus[f]\n",
    "    #  Loop through the atoms in the frame\n",
    "    for ai, atom_index in zip(range(len(frame_atoms[f])), frame_atoms[f]):\n",
    "        #  adjust indexing\n",
    "        atom_index = atom_index - 1\n",
    "        if atom_index in list(atom_charge_dict.keys()) and atom_index not in used_atoms:\n",
    "            charges = atom_charge_dict[atom_index]\n",
    "            #  Find the associated charges for that atom, and loop\n",
    "            for charge in charges:\n",
    "                c_pos_local = c_positions_local[charge]\n",
    "                atom_pos_xyz = atom_positions_plus[atom_index]\n",
    "                # \n",
    "                                \n",
    "                local_x_pos =  np.multiply(ex_p[ai], c_pos_local[0])\n",
    "                local_y_pos =  np.multiply(ey_p[ai], c_pos_local[1])\n",
    "                local_z_pos =  np.multiply(ez_p[ai], c_pos_local[2])\n",
    "                \n",
    "                c_positions_global[charge][0] = local_x_pos.sum()\n",
    "                c_positions_global[charge][1] = local_y_pos.sum()\n",
    "                c_positions_global[charge][2] = local_z_pos.sum()\n",
    "                \n",
    "                c_positions_global[charge][0] = c_positions_global[charge][0] + 1 * atom_pos_xyz[0]\n",
    "                c_positions_global[charge][1] = c_positions_global[charge][1] + 1 * atom_pos_xyz[1]\n",
    "                c_positions_global[charge][2] = c_positions_global[charge][2] + 1 * atom_pos_xyz[2]\n",
    "                \n",
    "        used_atoms.append(atom_index)\n"
   ]
  },
  {
   "cell_type": "code",
   "execution_count": 33,
   "metadata": {},
   "outputs": [
    {
     "data": {
      "application/vnd.jupyter.widget-view+json": {
       "model_id": "965ae8ddca934816bbe55b0e99b8aa48",
       "version_major": 2,
       "version_minor": 0
      },
      "text/plain": [
       "Canvas(toolbar=Toolbar(toolitems=[('Home', 'Reset original view', 'home', 'home'), ('Back', 'Back to previous …"
      ]
     },
     "metadata": {},
     "output_type": "display_data"
    }
   ],
   "source": [
    "fig = plt.figure()\n",
    "ax = Axes3D(fig, elev=0, azim=60)\n",
    "# Transpose to the right shape for plotting\n",
    "a_p = np.array(atom_positions).T\n",
    "a_p1 = np.array(atom_positions_plus).T\n",
    "c_p = np.array(c_positions).T\n",
    "c_p_l = np.array(c_positions_global).T\n",
    "\n",
    "# Plotting\n",
    "for x_local_vector, y_local_vector, z_local_vector in zip(*frame_vectors_plus[0]):\n",
    "    plot_axe(x_local_vector, y_local_vector, z_local_vector) \n",
    "    \n",
    "#plot_axe(*frame_vectors_plus[0], c=\"b\")\n",
    "#plt.plot(a_p[0], a_p[1], a_p[2],  marker=\"o\")\n",
    "plt.plot(a_p1[0], a_p1[1], a_p1[2], marker=\"o\")\n",
    "plt.plot(c_p[0], c_p[1], c_p[2], marker=\"o\", linestyle = 'None', alpha=0.8)\n",
    "plt.plot(c_p_l[0], c_p_l[1], c_p_l[2], marker=\"o\", linestyle = 'None', alpha=0.8)\n",
    "ax.set_xlim(-1,1)\n",
    "ax.set_ylim(-1,1)\n",
    "ax.set_zlim(-1,1)\n",
    "    \n",
    "plt.show()"
   ]
  },
  {
   "cell_type": "code",
   "execution_count": 85,
   "metadata": {},
   "outputs": [
    {
     "data": {
      "text/plain": [
       "array([[ 1.97112815e-05, -1.05893059e+01,  1.66536762e-01],\n",
       "       [ 1.45805517e-05, -1.03447084e+01,  2.81302913e+01],\n",
       "       [-1.39439466e-05, -1.00357789e+01,  3.38167494e+01]])"
      ]
     },
     "execution_count": 85,
     "metadata": {},
     "output_type": "execute_result"
    }
   ],
   "source": [
    "c_positions_global"
   ]
  },
  {
   "cell_type": "code",
   "execution_count": 86,
   "metadata": {},
   "outputs": [
    {
     "data": {
      "text/plain": [
       "[[8.685113839e-06, 0.6635929700945736, -0.4228625080122869],\n",
       " [1.28488603766e-05, -0.9669306758555397, -0.2003160881260604],\n",
       " [-1.22878630847e-05, -0.960938746311971, -0.1418541396614728]]"
      ]
     },
     "execution_count": 86,
     "metadata": {},
     "output_type": "execute_result"
    }
   ],
   "source": [
    "c_positions"
   ]
  },
  {
   "cell_type": "code",
   "execution_count": null,
   "metadata": {},
   "outputs": [],
   "source": []
  },
  {
   "cell_type": "code",
   "execution_count": null,
   "metadata": {},
   "outputs": [],
   "source": []
  },
  {
   "cell_type": "code",
   "execution_count": null,
   "metadata": {},
   "outputs": [],
   "source": []
  }
 ],
 "metadata": {
  "kernelspec": {
   "display_name": "Python 3",
   "language": "python",
   "name": "python3"
  },
  "language_info": {
   "codemirror_mode": {
    "name": "ipython",
    "version": 3
   },
   "file_extension": ".py",
   "mimetype": "text/x-python",
   "name": "python",
   "nbconvert_exporter": "python",
   "pygments_lexer": "ipython3",
   "version": "3.8.3"
  }
 },
 "nbformat": 4,
 "nbformat_minor": 5
}
